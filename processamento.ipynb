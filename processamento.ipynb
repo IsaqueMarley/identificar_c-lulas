
caminhos_imagens = ["BloodImage_00002.jpg", "BloodImage_00003.jpg", "BloodImage_00005.jpg",
                   "BloodImage_00006.jpg", "BloodImage_00007.jpg", "BloodImage_00009.jpg",
                   "BloodImage_00058.jpg","BloodImage_00077.jpg","BloodImage_00081.jpg"]


def contar_celulas(caminho_imagem):

    img = cv2.imread(caminho_imagem)

    # Converter para o espaço de cores HSV
    hsv = cv2.cvtColor(img, cv2.COLOR_BGR2HSV)

    # Definir o intervalo de cores para segmentar células "roxas"
    roxo_baixo = np.array([70,50,50])
    roxo_alto = np.array([255,255,255])

    # Criar e aplicar uma máscara que segmenta as células roxas
    mascara = cv2.inRange(hsv, roxo_baixo, roxo_alto)
    res = cv2.bitwise_and(img, img, mask=mascara)

    # Converter para escala de cinza
    cinza = cv2.cvtColor(res, cv2.COLOR_BGR2GRAY)

    # Suavizar a imagem
    cinza = cv2.medianBlur(cinza, 1)

    # Aplicar a transformada de Hough para encontrar círculos
    circulos = cv2.HoughCircles(cinza, cv2.HOUGH_GRADIENT, 1, 20, param1=50, param2=30, minRadius=10, maxRadius=0)

    # Se círculos foram encontrados
    if circulos is not None:
      circulos = np.uint16(np.around(circulos))

      # Coletar os limites dos círculos
      limites_circulos = []
      for i in circulos[0,:]:
          # Desenhar o círculo externo
          #cv2.circle(img,(i[0],i[1]),i[2],(0,255,0),2)
          # Desenhar o centro do círculo
          
            
          x, y, raio = i[0], i[1], i[2]
          # Converter os valores para np.int64
          x, y, raio = np.int64(x), np.int64(y), np.int64(raio)
          limites_circulos.append((x - raio, y - raio))
          limites_circulos.append((x + raio, y + raio))

      # Calcular o círculo envolvente
      x_min, y_min = np.min(limites_circulos, axis=0)
      x_max, y_max = np.max(limites_circulos, axis=0)
      centro_x, centro_y = (x_min + x_max) // 2, (y_min + y_max) // 2
      raio_envolvente = max((x_max - x_min) // 2, (y_max - y_min) // 2)

      # Desenhar o círculo envolvente
      cv2.circle(img, (centro_x, centro_y), raio_envolvente, (0, 255, 0), 2)
      #Desenhar o o pontinho na origem
      cv2.circle(img,(i[0],i[1]),2,(0,255,0),3)
      
      # Adicionar texto "WBC"
      font = cv2.FONT_HERSHEY_SIMPLEX
      org = (i[0] + 10, i[1] + 10)  # Coordenadas para posicionar o texto
      font_scale = 0.5
      color = (0, 255, 0)  # Cor do texto
      thickness = 1
      cv2.putText(img, "WBC", org, font, font_scale, color, thickness, cv2.LINE_AA)

      # Mostrar a imagem com matplotlib
      plt.imshow(img)
      plt.show()

    # Retornar o número de círculos (células) encontrados
      return len(circulos[0,:])
    else:
      return 0


# Contar células em todas as imagens
for caminho in caminhos_imagens:
    num_celulas = contar_celulas(caminho)
    print(f'Número de células na imagem {caminho}: {"Nenhuma celula foi encontrada na imagem"  if num_celulas == 0 else num_celulas}')
    print()
    print()