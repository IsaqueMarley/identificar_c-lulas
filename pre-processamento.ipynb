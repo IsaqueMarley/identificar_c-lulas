import cv2
import numpy as np
import matplotlib.pyplot as plt

# Lista de caminhos das imagens
caminhos_imagens = ["BloodImage_00002.jpg", "BloodImage_00003.jpg",
                   "BloodImage_00004.jpg", "BloodImage_00005.jpg",
                   "BloodImage_00006.jpg", "BloodImage_00007.jpg",
                   "BloodImage_00008.jpg", "BloodImage_00009.jpg",
                   "BloodImage_00281.jpg"]

# Função para contar células em uma imagem
def contar_celulas(caminho_imagem):

    img = cv2.imread(caminho_imagem)
    
    # Converter para o espaço de cores HSV
    hsv = cv2.cvtColor(img, cv2.COLOR_BGR2HSV)
    
    # Definir o intervalo de cores para segmentar células "roxas"
    roxo_baixo = np.array([70,50,50])    #70,50,50(       )/// 70,50,25 (7,5)
    roxo_alto = np.array([255,255,255]) #255,255,255          <--------
    
    # Criar e aplicar uma máscara que segmenta as células roxas
    mascara = cv2.inRange(hsv, roxo_baixo, roxo_alto)
    res = cv2.bitwise_and(img, img, mask=mascara)
    
    # Converter para escala de cinza
    cinza = cv2.cvtColor(res, cv2.COLOR_BGR2GRAY)
    
    # Suavizar a imagem
    cinza = cv2.medianBlur(cinza,1)
    
    # Aplicar a transformada de Hough para encontrar círculos                                  #10 
    circulos = cv2.HoughCircles(cinza, cv2.HOUGH_GRADIENT, 1, 20, param1=50, param2=30, minRadius=10, maxRadius=0)
    
    # Se círculos foram encontrados
    if circulos is not None:
        circulos = np.uint16(np.around(circulos))
        for i in circulos[0,:]:
            # Desenhar o círculo externo
            cv2.circle(img,(i[0],i[1]),i[2],(0,255,0),2)
            # Desenhar o centro do círculo
            cv2.circle(img,(i[0],i[1]),2,(0,0,255),3)
            
        # Mostrar a imagem com matplotlib
        plt.imshow(img)
        plt.show()
        
        # Retornar o número de círculos (células) encontrados
        return len(circulos[0,:])
    else:
        return 0

# Contar células em todas as imagens
for caminho in caminhos_imagens:
    num_celulas = contar_celulas(caminho)
    print(f'Número de células na imagem {caminho}: {num_celulas}')
